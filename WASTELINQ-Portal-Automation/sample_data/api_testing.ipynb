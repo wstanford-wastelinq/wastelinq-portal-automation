{
 "cells": [
  {
   "cell_type": "code",
   "execution_count": 2,
   "metadata": {},
   "outputs": [
    {
     "name": "stdout",
     "output_type": "stream",
     "text": [
      "Collecting requests\n",
      "  Using cached requests-2.32.3-py3-none-any.whl.metadata (4.6 kB)\n",
      "Collecting charset-normalizer<4,>=2 (from requests)\n",
      "  Using cached charset_normalizer-3.4.0-cp311-cp311-win_amd64.whl.metadata (34 kB)\n",
      "Collecting idna<4,>=2.5 (from requests)\n",
      "  Using cached idna-3.10-py3-none-any.whl.metadata (10 kB)\n",
      "Collecting urllib3<3,>=1.21.1 (from requests)\n",
      "  Using cached urllib3-2.2.3-py3-none-any.whl.metadata (6.5 kB)\n",
      "Collecting certifi>=2017.4.17 (from requests)\n",
      "  Using cached certifi-2024.8.30-py3-none-any.whl.metadata (2.2 kB)\n",
      "Using cached requests-2.32.3-py3-none-any.whl (64 kB)\n",
      "Using cached certifi-2024.8.30-py3-none-any.whl (167 kB)\n",
      "Using cached charset_normalizer-3.4.0-cp311-cp311-win_amd64.whl (101 kB)\n",
      "Using cached idna-3.10-py3-none-any.whl (70 kB)\n",
      "Using cached urllib3-2.2.3-py3-none-any.whl (126 kB)\n",
      "Installing collected packages: urllib3, idna, charset-normalizer, certifi, requests\n",
      "Successfully installed certifi-2024.8.30 charset-normalizer-3.4.0 idna-3.10 requests-2.32.3 urllib3-2.2.3\n",
      "Note: you may need to restart the kernel to use updated packages.\n"
     ]
    },
    {
     "name": "stderr",
     "output_type": "stream",
     "text": [
      "  WARNING: The script normalizer.exe is installed in 'c:\\Users\\WilliamStanford\\AppData\\Local\\Programs\\Python\\Python311\\Scripts' which is not on PATH.\n",
      "  Consider adding this directory to PATH or, if you prefer to suppress this warning, use --no-warn-script-location.\n",
      "\n",
      "[notice] A new release of pip is available: 24.0 -> 24.3.1\n",
      "[notice] To update, run: python.exe -m pip install --upgrade pip\n"
     ]
    }
   ],
   "source": [
    "pip install requests"
   ]
  },
  {
   "cell_type": "code",
   "execution_count": null,
   "metadata": {},
   "outputs": [
    {
     "name": "stdout",
     "output_type": "stream",
     "text": [
      "{\n",
      "  \"__input3-__clone50-inner\": 114513,\n",
      "  \"__input3-__clone52-inner\": \"VSQG219H\",\n",
      "  \"__input3-__clone54-inner\": \"\",\n",
      "  \"__area1-__clone56-inner\": \"spent acid reagents from food testing\",\n",
      "  \"__box1-__clone58-inner\": \"N\",\n",
      "  \"__box1-__clone62-inner\": \"N\",\n",
      "  \"__box2-__clone64-inner\": [\n",
      "    \"Generator Knowledge\"\n",
      "  ],\n",
      "  \"__box1-__clone68-inner\": \"W219\",\n",
      "  \"__box1-__clone70-inner\": \"G22 - LABORATORY ANALYTICAL WASTES (USED CHEMICALS)\",\n",
      "  \"__box3-__clone72-inner\": [],\n",
      "  \"__input4-__clone74-inner\": \"1\",\n",
      "  \"__input4-__clone76-inner\": \"\",\n",
      "  \"__input4-__clone78-inner\": null,\n",
      "  \"__box4-__clone84-inner\": \"MILD\",\n",
      "  \"__input4-__clone86-inner\": null,\n",
      "  \"__input4-__clone88-inner\": \"clear to yellow\",\n",
      "  \"__box4-__clone90-inner\": \"LIQUID\",\n",
      "  \"__box4-__clone94-inner\": \"SINGLE\",\n",
      "  \"__box4-__clone98-inner\": \"3,000 - 5,000\",\n",
      "  \"__box4-__clone100-inner\": \"< =2.0\",\n",
      "  \"__box4-__clone102-inner\": \"> 200 F\",\n",
      "  \"__box9-__clone107-inner\": [\n",
      "    \"SHARPS\"\n",
      "  ],\n",
      "  \"__input8-__clone109-inner\": \"\",\n",
      "  \"__input8-__clone111-inner\": null,\n",
      "  \"__input8-__clone113-inner\": null,\n",
      "  \"__box10-__clone117-inner\": \"N\",\n",
      "  \"__box10-__clone119-inner\": \"N\",\n",
      "  \"__box10-__clone123-inner\": \"N\",\n",
      "  \"__box10-__clone125-inner\": \"N\",\n",
      "  \"__box10-__clone127-inner\": \"Y\",\n",
      "  \"__box10-__clone131-inner\": \"N\",\n",
      "  \"__box11-__clone133-inner\": \"Y\",\n",
      "  \"__box11-__clone135-inner\": \"N\",\n",
      "  \"__box11-__clone137-inner\": \"N\",\n",
      "  \"__box12-__clone139-inner\": [\n",
      "    \"D002\",\n",
      "    \"VSQG219H\"\n",
      "  ],\n",
      "  \"__box11-__clone145-inner\": \"N\",\n",
      "  \"__box11-__clone147-inner\": \"N\",\n",
      "  \"__box13-__clone149-inner\": \"N\",\n",
      "  \"__input9-__clone151-inner\": \"30 Gals\",\n",
      "  \"__box13-__clone153-inner\": \"N\",\n",
      "  \"__input9-__clone155-inner\": \"30 Gals\",\n",
      "  \"__box13-__clone157-inner\": \"N\",\n",
      "  \"__box14-__clone159-inner\": [\n",
      "    \"METAL\",\n",
      "    \"PLASTIC IN METAL CAGE\"\n",
      "  ],\n",
      "  \"__box14-__clone161-inner\": [\n",
      "    \"30 GALLON CONTAINER\"\n",
      "  ],\n",
      "  \"__box13-__clone167-inner\": \"PER YEAR\",\n",
      "  \"__input9-__clone171-inner\": 5,\n",
      "  \"__box13-__clone173-inner\": \"N\",\n",
      "  \"__box15-__clone175-inner\": \"Y\",\n",
      "  \"__vol0-inner\": \"UN1760\",\n",
      "  \"__box15-__clone178-inner\": \"Y\",\n",
      "  \"__area2-__clone180-inner\": \"ACETIC ACID, HYDROCHLORIC ACID\",\n",
      "  \"__input10-__clone182-inner\": \"\",\n",
      "  \"__box15-__clone184-inner\": \"N\",\n",
      "  \"__input10-__clone186-inner\": \"\"\n",
      "}\n"
     ]
    }
   ],
   "source": [
    "import requests\n",
    "import json\n",
    "\n",
    "def call_lambda_with_json(json_file_path, lambda_url):\n",
    "\n",
    "    # Read the JSON file\n",
    "    with open(json_file_path, 'r', encoding='utf-8') as f:\n",
    "        data = json.load(f)\n",
    "    \n",
    "    # Make POST request to Lambda function\n",
    "    response = requests.post(\n",
    "        lambda_url,\n",
    "        json=data,\n",
    "        headers={'Content-Type': 'application/json'}\n",
    "    )\n",
    "    \n",
    "    # Check if request was successful\n",
    "    if response.status_code == 200:\n",
    "        # Parse and return the mapped data\n",
    "        return response.json()\n",
    "    else:\n",
    "        raise Exception(f\"Lambda call failed with status {response.status_code}: {response.text}\")\n",
    "\n",
    "# Example usage\n",
    "lambda_url = \"https://gf6fbx4vhdd5lcq4qmfmvexazi0qgiwp.lambda-url.us-east-2.on.aws/\"\n",
    "json_file_path = \"sample_pulled_data.json\"  # Replace with your JSON file path\n",
    "\n",
    "try:\n",
    "    mapped_data = call_lambda_with_json(json_file_path, lambda_url)\n",
    "    \n",
    "    # Print or save the results\n",
    "    print(json.dumps(mapped_data, indent=2))\n",
    "    \n",
    "    # Optionally save to file\n",
    "    with open('mapped_output.json', 'w', encoding='utf-8') as f:\n",
    "        json.dump(mapped_data, f, indent=2)\n",
    "        \n",
    "except Exception as e:\n",
    "    print(f\"Error: {e}\")"
   ]
  },
  {
   "cell_type": "code",
   "execution_count": null,
   "metadata": {},
   "outputs": [],
   "source": []
  }
 ],
 "metadata": {
  "kernelspec": {
   "display_name": "Python 3",
   "language": "python",
   "name": "python3"
  },
  "language_info": {
   "codemirror_mode": {
    "name": "ipython",
    "version": 3
   },
   "file_extension": ".py",
   "mimetype": "text/x-python",
   "name": "python",
   "nbconvert_exporter": "python",
   "pygments_lexer": "ipython3",
   "version": "3.11.8"
  }
 },
 "nbformat": 4,
 "nbformat_minor": 2
}
